{
  "nbformat": 4,
  "nbformat_minor": 0,
  "metadata": {
    "anaconda-cloud": {},
    "kernelspec": {
      "display_name": "Python 3",
      "language": "python",
      "name": "python3"
    },
    "language_info": {
      "codemirror_mode": {
        "name": "ipython",
        "version": 3
      },
      "file_extension": ".py",
      "mimetype": "text/x-python",
      "name": "python",
      "nbconvert_exporter": "python",
      "pygments_lexer": "ipython3",
      "version": "3.7.3"
    },
    "colab": {
      "name": "11장 군집분석",
      "provenance": [],
      "collapsed_sections": [],
      "include_colab_link": true
    }
  },
  "cells": [
    {
      "cell_type": "markdown",
      "metadata": {
        "id": "view-in-github",
        "colab_type": "text"
      },
      "source": [
        "<a href=\"https://colab.research.google.com/github/GodJiLee/Machine_learning_study/blob/master/11%EC%9E%A5_%EA%B5%B0%EC%A7%91%EB%B6%84%EC%84%9D.ipynb\" target=\"_parent\"><img src=\"https://colab.research.google.com/assets/colab-badge.svg\" alt=\"Open In Colab\"/></a>"
      ]
    },
    {
      "cell_type": "markdown",
      "metadata": {
        "id": "GI1xTJC7BcAG",
        "colab_type": "text"
      },
      "source": [
        "# 11장. 레이블되지 않은 데이터 다루기 : 군집 분석\n",
        "## 11.1 k-평균 알고리즘을 사용하여 유사한 객체를 그룹핑하기\n",
        "### 11.1.1 사이킷런을 사용한 k-평균 군집"
      ]
    },
    {
      "cell_type": "code",
      "metadata": {
        "id": "M_rHg65YBcAn",
        "colab_type": "code",
        "colab": {}
      },
      "source": [
        "from sklearn.datasets import make_blobs \n",
        "\n",
        "# 150개의 랜덤하게 생성된 포인트 생성\n",
        "X, y = make_blobs(n_samples = 150, \n",
        "                  n_features = 2, \n",
        "                  centers = 3, \n",
        "                  cluster_std = 0.5, \n",
        "                  shuffle = True, \n",
        "                  random_state = 0)"
      ],
      "execution_count": 0,
      "outputs": []
    },
    {
      "cell_type": "code",
      "metadata": {
        "id": "DZ4Huua7BcA2",
        "colab_type": "code",
        "outputId": "9b4f5374-401e-4861-89a6-2f32bc90b5bd",
        "colab": {
          "base_uri": "https://localhost:8080/",
          "height": 297
        }
      },
      "source": [
        "import matplotlib.pyplot as plt\n",
        "\n",
        "# 2차원 산점도 그리기\n",
        "plt.scatter(X[:, 0], X[:, 1], \n",
        "            c = 'white', marker = 'o', edgecolor = 'black', s = 50)\n",
        "plt.grid()\n",
        "plt.tight_layout()\n",
        "plt.show()\n",
        "\n",
        "# 세 개의 그룹을 형성 \n",
        "# 비지도학습이므로 각 샘플에 대한 카테고리 정보는 사전에 주어지지 않음"
      ],
      "execution_count": 3,
      "outputs": [
        {
          "output_type": "display_data",
          "data": {
            "image/png": "[encoded data removed]",
            "text/plain": [
              "<Figure size 432x288 with 1 Axes>"
            ]
          },
          "metadata": {
            "tags": [],
            "needs_background": "light"
          }
        }
      ]
    },
    {
      "cell_type": "code",
      "metadata": {
        "id": "ZDIzLv3wBcA_",
        "colab_type": "code",
        "colab": {}
      },
      "source": [
        "from sklearn.cluster import KMeans #위에서 마련한 데이터셋에 대해 사이킷런의 KMeans 모듈 적용\n",
        "km = KMeans(n_clusters = 3, #군집은 3개로 설정\n",
        "            init = 'random', # K_means를 선택\n",
        "            n_init = 10, # SSE를 최소화하는 센트로이드를 찾기 위해 10번 실행\n",
        "            max_iter = 300,\n",
        "            tol = 1e-04, \n",
        "            random_state = 0)\n",
        "\n",
        "y_km = km.fit_predict(X) # 예측 클러스터 레이블 생성"
      ],
      "execution_count": 0,
      "outputs": []
    },
    {
      "cell_type": "code",
      "metadata": {
        "id": "K8Xk9j8RBcBG",
        "colab_type": "code",
        "outputId": "a6fc1f99-dee0-4031-bc2f-5c803c2e3e8f",
        "colab": {
          "base_uri": "https://localhost:8080/",
          "height": 297
        }
      },
      "source": [
        "# 예측한 클러스터와 중심을 시각화 \n",
        "\n",
        "plt.scatter(X[y_km == 0, 0],\n",
        "            X[y_km == 0, 1],\n",
        "            s = 50, c = 'lightgreen',\n",
        "            marker = 's', edgecolor = 'black',\n",
        "            label = 'cluster 1')\n",
        "\n",
        "plt.scatter(X[y_km == 1, 0],\n",
        "            X[y_km == 1, 1],\n",
        "            s = 50, c = 'orange',\n",
        "            marker = 'o', edgecolor = 'black', \n",
        "            label = 'cluster 2')\n",
        "\n",
        "plt.scatter(X[y_km == 2, 0], \n",
        "            X[y_km == 2, 1],\n",
        "            s = 50, c = 'lightblue',\n",
        "            marker = 'v', edgecolor = 'black', \n",
        "            label = 'cluster 3')\n",
        "\n",
        "plt.scatter(km.cluster_centers_[:, 0],\n",
        "            km.cluster_centers_[:, 1],\n",
        "            s = 250, marker = '*',\n",
        "            c = 'red', edgecolor = 'black', \n",
        "            label = 'centroids')\n",
        "\n",
        "plt.legend(scatterpoints = 1)\n",
        "plt.grid()\n",
        "plt.tight_layout()\n",
        "plt.show()\n",
        "\n",
        "# 이와 같은 작은 2차원 데이터셋에 대해서는 K-means가 잘 작동함 \n",
        "# 하지만 군집의 개수를 사전에 지정해줘야 한다는 점과 군집 안에 적어도 하나의 샘플이 포함되어 있다는 가정이 필요하다는 등의 한계가 존재함\n",
        "# 계층적 군집, 밀집도 기반 군집 등으로 이러한 한계를 극복할 수 있음 "
      ],
      "execution_count": 11,
      "outputs": [
        {
          "output_type": "display_data",
          "data": {
            "image/png": "[encoded data removed]",
            "text/plain": [
              "<Figure size 432x288 with 1 Axes>"
            ]
          },
          "metadata": {
            "tags": [],
            "needs_background": "light"
          }
        }
      ]
    },
    {
      "cell_type": "markdown",
      "metadata": {
        "id": "SJ3pxBMvBcBN",
        "colab_type": "text"
      },
      "source": [
        "### 11.1.4 엘보우 방법을 사용하여 최적의 클러스터 개수를 찾기"
      ]
    },
    {
      "cell_type": "code",
      "metadata": {
        "id": "ZmqKKEQrBcBO",
        "colab_type": "code",
        "outputId": "5c2b144a-79c1-4ecd-9f71-2ff62726f542",
        "colab": {
          "base_uri": "https://localhost:8080/",
          "height": 34
        }
      },
      "source": [
        "print('왜곡 : %.2f' % km.inertia_) # 클러스트 분류의 성능을 측정하기 위해 사이킷런 내부에 계산되어 있는 SSE 를 사용할 것임"
      ],
      "execution_count": 12,
      "outputs": [
        {
          "output_type": "stream",
          "text": [
            "왜곡 : 72.48\n"
          ],
          "name": "stdout"
        }
      ]
    },
    {
      "cell_type": "code",
      "metadata": {
        "id": "uzfuAQueBcBc",
        "colab_type": "code",
        "outputId": "dc01fee6-c8ba-479f-9aef-aa9281dd0324",
        "colab": {
          "base_uri": "https://localhost:8080/",
          "height": 297
        }
      },
      "source": [
        "distortions = []\n",
        "for i in range(1, 11):\n",
        "    km = KMeans(n_clusters = i,\n",
        "                init = 'k-means++',\n",
        "                n_init = 10,\n",
        "                max_iter = 300,\n",
        "                random_state = 0)\n",
        "    \n",
        "    km.fit(X)\n",
        "    distortions.append(km.inertia_)\n",
        "\n",
        "plt.plot(range(1, 11), distortions, marker = 'o')\n",
        "plt.xlabel('Number of clusters')\n",
        "plt.ylabel('Distortion')\n",
        "plt.tight_layout()\n",
        "plt.show()\n",
        "\n",
        "# 기본적으로는 군집의 개수가 늘어날 수록 왜곡은 작아짐\n",
        "# 왜곡이 빠르게 늘어나는(엘보우) K = 3을 최적의 군집 개수로 선택할 수 있음"
      ],
      "execution_count": 23,
      "outputs": [
        {
          "output_type": "display_data",
          "data": {
            "image/png": "[encoded data removed]",
            "text/plain": [
              "<Figure size 432x288 with 1 Axes>"
            ]
          },
          "metadata": {
            "tags": [],
            "needs_background": "light"
          }
        }
      ]
    },
    {
      "cell_type": "markdown",
      "metadata": {
        "id": "G2cs5hfKBcBj",
        "colab_type": "text"
      },
      "source": [
        "### 11.1.5 실루엣 그래프로 군집 품질을 정량화하기"
      ]
    },
    {
      "cell_type": "code",
      "metadata": {
        "id": "zbDAN9XOBcBk",
        "colab_type": "code",
        "outputId": "b018cb5d-26ad-4bdc-90a5-14c7ec26f53c",
        "colab": {
          "base_uri": "https://localhost:8080/",
          "height": 297
        }
      },
      "source": [
        "km = KMeans(n_clusters = 3, \n",
        "            init = 'k-means++',\n",
        "            n_init = 10, \n",
        "            max_iter = 300,\n",
        "            tol = 1e-04,\n",
        "            random_state = 0)\n",
        "y_km = km.fit_predict(X) #앞서 설정한 K-means 알고리즘을 K-means++로 바꿔줌\n",
        "\n",
        "import numpy as np\n",
        "from matplotlib import cm\n",
        "from sklearn.metrics import silhouette_samples\n",
        "\n",
        "cluster_labels = np.unique(y_km)\n",
        "n_clusters = cluster_labels.shape[0]\n",
        "silhouette_vals = silhouette_samples(X, \n",
        "                                     y_km, \n",
        "                                     metric = 'euclidean') #실루엣 계수 계산\n",
        "\n",
        "y_ax_lower, y_ax_upper = 0, 0\n",
        "yticks = []\n",
        "for i, c in enumerate(cluster_labels):\n",
        "    c_silhouette_vals = silhouette_vals[y_km == c]\n",
        "    c_silhouette_vals.sort()\n",
        "    y_ax_upper += len(c_silhouette_vals)\n",
        "    color = cm.jet(float(i) / n_clusters)\n",
        "    plt.barh(range(y_ax_lower, y_ax_upper),\n",
        "             c_silhouette_vals,\n",
        "             height = 1.0,\n",
        "             edgecolor = 'none',\n",
        "             color = color) # 서로 다른 군집 3개를 구분하여 시각화\n",
        "    \n",
        "    yticks.append((y_ax_lower + y_ax_upper) / 2.)\n",
        "    y_ax_lower += len(c_silhouette_vals)\n",
        "\n",
        "silhouette_avg = np.mean(silhouette_vals) #모든 샘플에 대해 평균 실루엣 계수를 계산\n",
        "\n",
        "plt.axvline(silhouette_avg,\n",
        "            color = 'red',\n",
        "            linestyle = '--')\n",
        "\n",
        "plt.yticks(yticks, cluster_labels + 1)\n",
        "plt.ylabel('Cluster')\n",
        "plt.xlabel('Silhouette coefficient')\n",
        "plt.tight_layout()\n",
        "plt.show()\n",
        "\n",
        "# 클러스터 크기 = 3, 실루엣 계수값이 0에서 멀리 떨어져 있음 \n",
        "# 군집간 차이와 군집내 유사도가 큰 적절한 군집화가 이루어짐"
      ],
      "execution_count": 28,
      "outputs": [
        {
          "output_type": "display_data",
          "data": {
            "image/png": "[encoded data removed]",
            "text/plain": [
              "<Figure size 432x288 with 1 Axes>"
            ]
          },
          "metadata": {
            "tags": [],
            "needs_background": "light"
          }
        }
      ]
    },
    {
      "cell_type": "code",
      "metadata": {
        "id": "vDymoY0cBcBr",
        "colab_type": "code",
        "outputId": "09806753-9c64-46ce-895e-20d60d3f6490",
        "colab": {
          "base_uri": "https://localhost:8080/",
          "height": 297
        }
      },
      "source": [
        "# 잘못된 클러스터링\n",
        "# 중심은 2개로 설정\n",
        "\n",
        "km = KMeans(n_clusters = 2,\n",
        "            init = 'k-means++',\n",
        "            n_init = 10,\n",
        "            max_iter = 300,\n",
        "            tol = 1e-04,\n",
        "            random_state = 0)\n",
        "\n",
        "y_km = km.fit_predict(X)\n",
        "\n",
        "plt.scatter(X[y_km == 1, 0],\n",
        "            X[y_km == 1, 1],\n",
        "            s = 50, c = 'lightgreen',\n",
        "            edgecolor = 'black',\n",
        "            marker = 's',\n",
        "            label = 'cluster 1')\n",
        "\n",
        "plt.scatter(X[y_km == 0, 0],\n",
        "            X[y_km == 0, 1],\n",
        "            s = 50, \n",
        "            c = 'orange',\n",
        "            edgecolor = 'black',\n",
        "            marker = 'o',\n",
        "            label = 'cluster 2')\n",
        "\n",
        "plt.scatter(km.cluster_centers_[:, 0],\n",
        "            km.cluster_centers_[:, 1],\n",
        "            s = 250, \n",
        "            marker = '*',\n",
        "            c = 'red',\n",
        "            label = 'centroids')\n",
        "\n",
        "plt.legend()\n",
        "plt.grid()\n",
        "plt.tight_layout()\n",
        "plt.show()\n",
        "\n",
        "# 하나의 중심이 두 군집 중간에 놓여 있음"
      ],
      "execution_count": 39,
      "outputs": [
        {
          "output_type": "display_data",
          "data": {
            "image/png": "[encoded data removed]",
            "text/plain": [
              "<Figure size 432x288 with 1 Axes>"
            ]
          },
          "metadata": {
            "tags": [],
            "needs_background": "light"
          }
        }
      ]
    },
    {
      "cell_type": "code",
      "metadata": {
        "id": "_6S1xT-0BcBx",
        "colab_type": "code",
        "outputId": "f466703d-d8b9-4056-dd75-8a01273d31cf",
        "colab": {
          "base_uri": "https://localhost:8080/",
          "height": 297
        }
      },
      "source": [
        "cluster_labels = np.unique(y_km)\n",
        "n_clusters = cluster_labels.shape[0]\n",
        "silhouette_vals = silhouette_samples(X, \n",
        "                                     y_km,\n",
        "                                     metric = 'euclidean') #유클리디안 거리로 실루엣 계수 계산\n",
        "\n",
        "y_ax_lower, y_ax_upper = 0, 0\n",
        "yticks = []\n",
        "\n",
        "for i, c in enumerate(cluster_labels):\n",
        "    c_silhouette_vals = silhouette_vals[y_km == c]\n",
        "    c_silhouette_vals.sort()\n",
        "    y_ax_upper += len(c_silhouette_vals)\n",
        "    color = cm.jet(i / n_clusters)\n",
        "    plt.barh(range(y_ax_lower, y_ax_upper),\n",
        "             c_silhouette_vals,\n",
        "             height = 1.0,\n",
        "             edgecolor = 'none',\n",
        "             color = color)\n",
        "    yticks.append((y_ax_lower + y_ax_upper) / 2)\n",
        "    y_ax_lower += len(c_silhouette_vals) # 실루엣 계수 두 군집에 대해 시각화\n",
        "\n",
        "silhouette_avg = np.mean(silhouette_vals) # 모든 샘플에 대한 실루엣 계수의 평균을 계산하여 전체적인 성능을 요약\n",
        "plt.axvline(silhouette_avg, color = 'red', linestyle = '--')\n",
        "plt.yticks(yticks, cluster_labels + 1)\n",
        "plt.ylabel('Cluster')\n",
        "plt.xlabel('Silhouette coefficient')\n",
        "plt.tight_layout()\n",
        "plt.show()\n",
        "\n",
        "# 이전 실루엣 그래프에 비해 두께와 길이 면에서 이전에 비해 성능이 더 안 좋은 것을 알 수 있음\n",
        "# 파란색 군집이 실루엣 계수가 비교적 작은 것으로 보아 집단적 분류강도가 더 약한 것을 알 수 있음"
      ],
      "execution_count": 41,
      "outputs": [
        {
          "output_type": "display_data",
          "data": {
            "image/png": "[encoded data removed]",
            "text/plain": [
              "<Figure size 432x288 with 1 Axes>"
            ]
          },
          "metadata": {
            "tags": [],
            "needs_background": "light"
          }
        }
      ]
    },
    {
      "cell_type": "markdown",
      "metadata": {
        "id": "rs_p9fAuBcB4",
        "colab_type": "text"
      },
      "source": [
        "## 11.2 계층적인 트리로 클러스터를 조직화하기\n",
        "### 11.2.1 상향식으로 클러스터 묶기"
      ]
    },
    {
      "cell_type": "code",
      "metadata": {
        "id": "ulFFgI9LBcB6",
        "colab_type": "code",
        "outputId": "76e22263-af65-45be-ef50-c0750944a1bb",
        "colab": {
          "base_uri": "https://localhost:8080/",
          "height": 195
        }
      },
      "source": [
        "import pandas as pd\n",
        "import numpy as np\n",
        "\n",
        "# 완전 연결(가장 다른 샘플 간 비교)을 사용한 병합군집에 사용하기 위한 랜덤 샘플 데이터 생성\n",
        "np.random.seed(123)\n",
        "variables = ['X', 'Y', 'Z']\n",
        "labels = ['ID_0', 'ID_1', 'ID_2', 'ID_3', 'ID_4']\n",
        "X = np.random.random_sample([5, 3]) * 10\n",
        "df = pd.DataFrame(X, columns = variables, index = labels)\n",
        "df"
      ],
      "execution_count": 42,
      "outputs": [
        {
          "output_type": "execute_result",
          "data": {
            "text/html": [
              "<div>\n",
              "<style scoped>\n",
              "    .dataframe tbody tr th:only-of-type {\n",
              "        vertical-align: middle;\n",
              "    }\n",
              "\n",
              "    .dataframe tbody tr th {\n",
              "        vertical-align: top;\n",
              "    }\n",
              "\n",
              "    .dataframe thead th {\n",
              "        text-align: right;\n",
              "    }\n",
              "</style>\n",
              "<table border=\"1\" class=\"dataframe\">\n",
              "  <thead>\n",
              "    <tr style=\"text-align: right;\">\n",
              "      <th></th>\n",
              "      <th>X</th>\n",
              "      <th>Y</th>\n",
              "      <th>Z</th>\n",
              "    </tr>\n",
              "  </thead>\n",
              "  <tbody>\n",
              "    <tr>\n",
              "      <th>ID_0</th>\n",
              "      <td>6.964692</td>\n",
              "      <td>2.861393</td>\n",
              "      <td>2.268515</td>\n",
              "    </tr>\n",
              "    <tr>\n",
              "      <th>ID_1</th>\n",
              "      <td>5.513148</td>\n",
              "      <td>7.194690</td>\n",
              "      <td>4.231065</td>\n",
              "    </tr>\n",
              "    <tr>\n",
              "      <th>ID_2</th>\n",
              "      <td>9.807642</td>\n",
              "      <td>6.848297</td>\n",
              "      <td>4.809319</td>\n",
              "    </tr>\n",
              "    <tr>\n",
              "      <th>ID_3</th>\n",
              "      <td>3.921175</td>\n",
              "      <td>3.431780</td>\n",
              "      <td>7.290497</td>\n",
              "    </tr>\n",
              "    <tr>\n",
              "      <th>ID_4</th>\n",
              "      <td>4.385722</td>\n",
              "      <td>0.596779</td>\n",
              "      <td>3.980443</td>\n",
              "    </tr>\n",
              "  </tbody>\n",
              "</table>\n",
              "</div>"
            ],
            "text/plain": [
              "             X         Y         Z\n",
              "ID_0  6.964692  2.861393  2.268515\n",
              "ID_1  5.513148  7.194690  4.231065\n",
              "ID_2  9.807642  6.848297  4.809319\n",
              "ID_3  3.921175  3.431780  7.290497\n",
              "ID_4  4.385722  0.596779  3.980443"
            ]
          },
          "metadata": {
            "tags": []
          },
          "execution_count": 42
        }
      ]
    },
    {
      "cell_type": "markdown",
      "metadata": {
        "id": "-IxzDJRLBcCB",
        "colab_type": "text"
      },
      "source": [
        "### 11.2.2 거리 행렬에서 계층 군집 수행하기"
      ]
    },
    {
      "cell_type": "code",
      "metadata": {
        "id": "tExgO3d7BcCC",
        "colab_type": "code",
        "outputId": "0182ea06-22a2-43e5-d304-ebf558febcb9",
        "colab": {
          "base_uri": "https://localhost:8080/",
          "height": 195
        }
      },
      "source": [
        "from scipy.spatial.distance import pdist, squareform\n",
        "\n",
        "row_dist = pd.DataFrame(squareform(\n",
        "    pdist(df, metric = 'euclidean')), # 위 샘플 간 유클리디안 거리 계산 후 축약된 거리 행렬 반환\n",
        "    columns = labels, index = labels)\n",
        "\n",
        "row_dist # 샘플 간 거리 대칭 행렬 생성"
      ],
      "execution_count": 44,
      "outputs": [
        {
          "output_type": "execute_result",
          "data": {
            "text/html": [
              "<div>\n",
              "<style scoped>\n",
              "    .dataframe tbody tr th:only-of-type {\n",
              "        vertical-align: middle;\n",
              "    }\n",
              "\n",
              "    .dataframe tbody tr th {\n",
              "        vertical-align: top;\n",
              "    }\n",
              "\n",
              "    .dataframe thead th {\n",
              "        text-align: right;\n",
              "    }\n",
              "</style>\n",
              "<table border=\"1\" class=\"dataframe\">\n",
              "  <thead>\n",
              "    <tr style=\"text-align: right;\">\n",
              "      <th></th>\n",
              "      <th>ID_0</th>\n",
              "      <th>ID_1</th>\n",
              "      <th>ID_2</th>\n",
              "      <th>ID_3</th>\n",
              "      <th>ID_4</th>\n",
              "    </tr>\n",
              "  </thead>\n",
              "  <tbody>\n",
              "    <tr>\n",
              "      <th>ID_0</th>\n",
              "      <td>0.000000</td>\n",
              "      <td>4.973534</td>\n",
              "      <td>5.516653</td>\n",
              "      <td>5.899885</td>\n",
              "      <td>3.835396</td>\n",
              "    </tr>\n",
              "    <tr>\n",
              "      <th>ID_1</th>\n",
              "      <td>4.973534</td>\n",
              "      <td>0.000000</td>\n",
              "      <td>4.347073</td>\n",
              "      <td>5.104311</td>\n",
              "      <td>6.698233</td>\n",
              "    </tr>\n",
              "    <tr>\n",
              "      <th>ID_2</th>\n",
              "      <td>5.516653</td>\n",
              "      <td>4.347073</td>\n",
              "      <td>0.000000</td>\n",
              "      <td>7.244262</td>\n",
              "      <td>8.316594</td>\n",
              "    </tr>\n",
              "    <tr>\n",
              "      <th>ID_3</th>\n",
              "      <td>5.899885</td>\n",
              "      <td>5.104311</td>\n",
              "      <td>7.244262</td>\n",
              "      <td>0.000000</td>\n",
              "      <td>4.382864</td>\n",
              "    </tr>\n",
              "    <tr>\n",
              "      <th>ID_4</th>\n",
              "      <td>3.835396</td>\n",
              "      <td>6.698233</td>\n",
              "      <td>8.316594</td>\n",
              "      <td>4.382864</td>\n",
              "      <td>0.000000</td>\n",
              "    </tr>\n",
              "  </tbody>\n",
              "</table>\n",
              "</div>"
            ],
            "text/plain": [
              "          ID_0      ID_1      ID_2      ID_3      ID_4\n",
              "ID_0  0.000000  4.973534  5.516653  5.899885  3.835396\n",
              "ID_1  4.973534  0.000000  4.347073  5.104311  6.698233\n",
              "ID_2  5.516653  4.347073  0.000000  7.244262  8.316594\n",
              "ID_3  5.899885  5.104311  7.244262  0.000000  4.382864\n",
              "ID_4  3.835396  6.698233  8.316594  4.382864  0.000000"
            ]
          },
          "metadata": {
            "tags": []
          },
          "execution_count": 44
        }
      ]
    },
    {
      "cell_type": "code",
      "metadata": {
        "id": "rp_YM6tEGZ2a",
        "colab_type": "code",
        "colab": {
          "base_uri": "https://localhost:8080/",
          "height": 1000
        },
        "outputId": "f25418b9-0255-4a40-b2a2-768aabb32528"
      },
      "source": [
        "from scipy.cluster.hierarchy import linkage\n",
        "help(linkage)\n",
        "\n",
        "# 위에서 pdist 함수로 생성한 축약 거리행렬을 linkage에 직접 넘겨줄 수도, 원본 데이터를 넘겨준 후 유클리디안 거리를 적용하도록 할 수도 있음\n",
        "# squareform 함수로 생성한 샘플 간 거리 대칭 행렬은 linkage에 직접 넘겨줄 수 없음"
      ],
      "execution_count": 45,
      "outputs": [
        {
          "output_type": "stream",
          "text": [
            "Help on function linkage in module scipy.cluster.hierarchy:\n",
            "\n",
            "linkage(y, method='single', metric='euclidean', optimal_ordering=False)\n",
            "    Perform hierarchical/agglomerative clustering.\n",
            "    \n",
            "    The input y may be either a 1d condensed distance matrix\n",
            "    or a 2d array of observation vectors.\n",
            "    \n",
            "    If y is a 1d condensed distance matrix,\n",
            "    then y must be a :math:`\\binom{n}{2}` sized\n",
            "    vector where n is the number of original observations paired\n",
            "    in the distance matrix. The behavior of this function is very\n",
            "    similar to the MATLAB linkage function.\n",
            "    \n",
            "    A :math:`(n-1)` by 4 matrix ``Z`` is returned. At the\n",
            "    :math:`i`-th iteration, clusters with indices ``Z[i, 0]`` and\n",
            "    ``Z[i, 1]`` are combined to form cluster :math:`n + i`. A\n",
            "    cluster with an index less than :math:`n` corresponds to one of\n",
            "    the :math:`n` original observations. The distance between\n",
            "    clusters ``Z[i, 0]`` and ``Z[i, 1]`` is given by ``Z[i, 2]``. The\n",
            "    fourth value ``Z[i, 3]`` represents the number of original\n",
            "    observations in the newly formed cluster.\n",
            "    \n",
            "    The following linkage methods are used to compute the distance\n",
            "    :math:`d(s, t)` between two clusters :math:`s` and\n",
            "    :math:`t`. The algorithm begins with a forest of clusters that\n",
            "    have yet to be used in the hierarchy being formed. When two\n",
            "    clusters :math:`s` and :math:`t` from this forest are combined\n",
            "    into a single cluster :math:`u`, :math:`s` and :math:`t` are\n",
            "    removed from the forest, and :math:`u` is added to the\n",
            "    forest. When only one cluster remains in the forest, the algorithm\n",
            "    stops, and this cluster becomes the root.\n",
            "    \n",
            "    A distance matrix is maintained at each iteration. The ``d[i,j]``\n",
            "    entry corresponds to the distance between cluster :math:`i` and\n",
            "    :math:`j` in the original forest.\n",
            "    \n",
            "    At each iteration, the algorithm must update the distance matrix\n",
            "    to reflect the distance of the newly formed cluster u with the\n",
            "    remaining clusters in the forest.\n",
            "    \n",
            "    Suppose there are :math:`|u|` original observations\n",
            "    :math:`u[0], \\ldots, u[|u|-1]` in cluster :math:`u` and\n",
            "    :math:`|v|` original objects :math:`v[0], \\ldots, v[|v|-1]` in\n",
            "    cluster :math:`v`. Recall :math:`s` and :math:`t` are\n",
            "    combined to form cluster :math:`u`. Let :math:`v` be any\n",
            "    remaining cluster in the forest that is not :math:`u`.\n",
            "    \n",
            "    The following are methods for calculating the distance between the\n",
            "    newly formed cluster :math:`u` and each :math:`v`.\n",
            "    \n",
            "      * method='single' assigns\n",
            "    \n",
            "        .. math::\n",
            "           d(u,v) = \\min(dist(u[i],v[j]))\n",
            "    \n",
            "        for all points :math:`i` in cluster :math:`u` and\n",
            "        :math:`j` in cluster :math:`v`. This is also known as the\n",
            "        Nearest Point Algorithm.\n",
            "    \n",
            "      * method='complete' assigns\n",
            "    \n",
            "        .. math::\n",
            "           d(u, v) = \\max(dist(u[i],v[j]))\n",
            "    \n",
            "        for all points :math:`i` in cluster u and :math:`j` in\n",
            "        cluster :math:`v`. This is also known by the Farthest Point\n",
            "        Algorithm or Voor Hees Algorithm.\n",
            "    \n",
            "      * method='average' assigns\n",
            "    \n",
            "        .. math::\n",
            "           d(u,v) = \\sum_{ij} \\frac{d(u[i], v[j])}\n",
            "                                   {(|u|*|v|)}\n",
            "    \n",
            "        for all points :math:`i` and :math:`j` where :math:`|u|`\n",
            "        and :math:`|v|` are the cardinalities of clusters :math:`u`\n",
            "        and :math:`v`, respectively. This is also called the UPGMA\n",
            "        algorithm.\n",
            "    \n",
            "      * method='weighted' assigns\n",
            "    \n",
            "        .. math::\n",
            "           d(u,v) = (dist(s,v) + dist(t,v))/2\n",
            "    \n",
            "        where cluster u was formed with cluster s and t and v\n",
            "        is a remaining cluster in the forest. (also called WPGMA)\n",
            "    \n",
            "      * method='centroid' assigns\n",
            "    \n",
            "        .. math::\n",
            "           dist(s,t) = ||c_s-c_t||_2\n",
            "    \n",
            "        where :math:`c_s` and :math:`c_t` are the centroids of\n",
            "        clusters :math:`s` and :math:`t`, respectively. When two\n",
            "        clusters :math:`s` and :math:`t` are combined into a new\n",
            "        cluster :math:`u`, the new centroid is computed over all the\n",
            "        original objects in clusters :math:`s` and :math:`t`. The\n",
            "        distance then becomes the Euclidean distance between the\n",
            "        centroid of :math:`u` and the centroid of a remaining cluster\n",
            "        :math:`v` in the forest. This is also known as the UPGMC\n",
            "        algorithm.\n",
            "    \n",
            "      * method='median' assigns :math:`d(s,t)` like the ``centroid``\n",
            "        method. When two clusters :math:`s` and :math:`t` are combined\n",
            "        into a new cluster :math:`u`, the average of centroids s and t\n",
            "        give the new centroid :math:`u`. This is also known as the\n",
            "        WPGMC algorithm.\n",
            "    \n",
            "      * method='ward' uses the Ward variance minimization algorithm.\n",
            "        The new entry :math:`d(u,v)` is computed as follows,\n",
            "    \n",
            "        .. math::\n",
            "    \n",
            "           d(u,v) = \\sqrt{\\frac{|v|+|s|}\n",
            "                               {T}d(v,s)^2\n",
            "                        + \\frac{|v|+|t|}\n",
            "                               {T}d(v,t)^2\n",
            "                        - \\frac{|v|}\n",
            "                               {T}d(s,t)^2}\n",
            "    \n",
            "        where :math:`u` is the newly joined cluster consisting of\n",
            "        clusters :math:`s` and :math:`t`, :math:`v` is an unused\n",
            "        cluster in the forest, :math:`T=|v|+|s|+|t|`, and\n",
            "        :math:`|*|` is the cardinality of its argument. This is also\n",
            "        known as the incremental algorithm.\n",
            "    \n",
            "    Warning: When the minimum distance pair in the forest is chosen, there\n",
            "    may be two or more pairs with the same minimum distance. This\n",
            "    implementation may choose a different minimum than the MATLAB\n",
            "    version.\n",
            "    \n",
            "    Parameters\n",
            "    ----------\n",
            "    y : ndarray\n",
            "        A condensed distance matrix. A condensed distance matrix\n",
            "        is a flat array containing the upper triangular of the distance matrix.\n",
            "        This is the form that ``pdist`` returns. Alternatively, a collection of\n",
            "        :math:`m` observation vectors in :math:`n` dimensions may be passed as\n",
            "        an :math:`m` by :math:`n` array. All elements of the condensed distance\n",
            "        matrix must be finite, i.e. no NaNs or infs.\n",
            "    method : str, optional\n",
            "        The linkage algorithm to use. See the ``Linkage Methods`` section below\n",
            "        for full descriptions.\n",
            "    metric : str or function, optional\n",
            "        The distance metric to use in the case that y is a collection of\n",
            "        observation vectors; ignored otherwise. See the ``pdist``\n",
            "        function for a list of valid distance metrics. A custom distance\n",
            "        function can also be used.\n",
            "    optimal_ordering : bool, optional\n",
            "        If True, the linkage matrix will be reordered so that the distance\n",
            "        between successive leaves is minimal. This results in a more intuitive\n",
            "        tree structure when the data are visualized. defaults to False, because\n",
            "        this algorithm can be slow, particularly on large datasets [2]_. See\n",
            "        also the `optimal_leaf_ordering` function.\n",
            "    \n",
            "        .. versionadded:: 1.0.0\n",
            "    \n",
            "    Returns\n",
            "    -------\n",
            "    Z : ndarray\n",
            "        The hierarchical clustering encoded as a linkage matrix.\n",
            "    \n",
            "    Notes\n",
            "    -----\n",
            "    1. For method 'single' an optimized algorithm based on minimum spanning\n",
            "       tree is implemented. It has time complexity :math:`O(n^2)`.\n",
            "       For methods 'complete', 'average', 'weighted' and 'ward' an algorithm\n",
            "       called nearest-neighbors chain is implemented. It also has time\n",
            "       complexity :math:`O(n^2)`.\n",
            "       For other methods a naive algorithm is implemented with :math:`O(n^3)`\n",
            "       time complexity.\n",
            "       All algorithms use :math:`O(n^2)` memory.\n",
            "       Refer to [1]_ for details about the algorithms.\n",
            "    2. Methods 'centroid', 'median' and 'ward' are correctly defined only if\n",
            "       Euclidean pairwise metric is used. If `y` is passed as precomputed\n",
            "       pairwise distances, then it is a user responsibility to assure that\n",
            "       these distances are in fact Euclidean, otherwise the produced result\n",
            "       will be incorrect.\n",
            "    \n",
            "    See Also\n",
            "    --------\n",
            "    scipy.spatial.distance.pdist : pairwise distance metrics\n",
            "    \n",
            "    References\n",
            "    ----------\n",
            "    .. [1] Daniel Mullner, \"Modern hierarchical, agglomerative clustering\n",
            "           algorithms\", :arXiv:`1109.2378v1`.\n",
            "    .. [2] Ziv Bar-Joseph, David K. Gifford, Tommi S. Jaakkola, \"Fast optimal\n",
            "           leaf ordering for hierarchical clustering\", 2001. Bioinformatics\n",
            "           :doi:`10.1093/bioinformatics/17.suppl_1.S22`\n",
            "    \n",
            "    Examples\n",
            "    --------\n",
            "    >>> from scipy.cluster.hierarchy import dendrogram, linkage\n",
            "    >>> from matplotlib import pyplot as plt\n",
            "    >>> X = [[i] for i in [2, 8, 0, 4, 1, 9, 9, 0]]\n",
            "    \n",
            "    >>> Z = linkage(X, 'ward')\n",
            "    >>> fig = plt.figure(figsize=(25, 10))\n",
            "    >>> dn = dendrogram(Z)\n",
            "    \n",
            "    >>> Z = linkage(X, 'single')\n",
            "    >>> fig = plt.figure(figsize=(25, 10))\n",
            "    >>> dn = dendrogram(Z)\n",
            "    >>> plt.show()\n",
            "\n"
          ],
          "name": "stdout"
        }
      ]
    },
    {
      "cell_type": "code",
      "metadata": {
        "id": "JPerSunFBcCJ",
        "colab_type": "code",
        "outputId": "fd6da688-2e4c-4832-9138-3c436b438cd4",
        "colab": {
          "base_uri": "https://localhost:8080/",
          "height": 221
        }
      },
      "source": [
        "# 잘못된 방식 - squareform 함수로 생성한 거리행렬을 사용하는 경우 \n",
        "from scipy.cluster.hierarchy import linkage\n",
        "\n",
        "row_clusters = linkage(row_dist, \n",
        "                       method = 'complete',\n",
        "                       metric = 'euclidean')\n",
        "\n",
        "pd.DataFrame(row_clusters,\n",
        "             columns = ['row label 1',\n",
        "                       'row label 2',\n",
        "                       'distance',\n",
        "                       'no. of items in clust.'],\n",
        "             index = ['cluster %d' %(i + 1) for i in range(row_clusters.shape[0])])"
      ],
      "execution_count": 50,
      "outputs": [
        {
          "output_type": "stream",
          "text": [
            "/usr/local/lib/python3.6/dist-packages/ipykernel_launcher.py:6: ClusterWarning: scipy.cluster: The symmetric non-negative hollow observation matrix looks suspiciously like an uncondensed distance matrix\n",
            "  \n"
          ],
          "name": "stderr"
        },
        {
          "output_type": "execute_result",
          "data": {
            "text/html": [
              "<div>\n",
              "<style scoped>\n",
              "    .dataframe tbody tr th:only-of-type {\n",
              "        vertical-align: middle;\n",
              "    }\n",
              "\n",
              "    .dataframe tbody tr th {\n",
              "        vertical-align: top;\n",
              "    }\n",
              "\n",
              "    .dataframe thead th {\n",
              "        text-align: right;\n",
              "    }\n",
              "</style>\n",
              "<table border=\"1\" class=\"dataframe\">\n",
              "  <thead>\n",
              "    <tr style=\"text-align: right;\">\n",
              "      <th></th>\n",
              "      <th>row label 1</th>\n",
              "      <th>row label 2</th>\n",
              "      <th>distance</th>\n",
              "      <th>no. of items in clust.</th>\n",
              "    </tr>\n",
              "  </thead>\n",
              "  <tbody>\n",
              "    <tr>\n",
              "      <th>cluster 1</th>\n",
              "      <td>0.0</td>\n",
              "      <td>4.0</td>\n",
              "      <td>6.521973</td>\n",
              "      <td>2.0</td>\n",
              "    </tr>\n",
              "    <tr>\n",
              "      <th>cluster 2</th>\n",
              "      <td>1.0</td>\n",
              "      <td>2.0</td>\n",
              "      <td>6.729603</td>\n",
              "      <td>2.0</td>\n",
              "    </tr>\n",
              "    <tr>\n",
              "      <th>cluster 3</th>\n",
              "      <td>3.0</td>\n",
              "      <td>5.0</td>\n",
              "      <td>8.539247</td>\n",
              "      <td>3.0</td>\n",
              "    </tr>\n",
              "    <tr>\n",
              "      <th>cluster 4</th>\n",
              "      <td>6.0</td>\n",
              "      <td>7.0</td>\n",
              "      <td>12.444824</td>\n",
              "      <td>5.0</td>\n",
              "    </tr>\n",
              "  </tbody>\n",
              "</table>\n",
              "</div>"
            ],
            "text/plain": [
              "           row label 1  row label 2   distance  no. of items in clust.\n",
              "cluster 1          0.0          4.0   6.521973                     2.0\n",
              "cluster 2          1.0          2.0   6.729603                     2.0\n",
              "cluster 3          3.0          5.0   8.539247                     3.0\n",
              "cluster 4          6.0          7.0  12.444824                     5.0"
            ]
          },
          "metadata": {
            "tags": []
          },
          "execution_count": 50
        }
      ]
    },
    {
      "cell_type": "code",
      "metadata": {
        "scrolled": true,
        "id": "CTED9nqNBcCQ",
        "colab_type": "code",
        "outputId": "1689e3b0-0d20-4c48-904b-6fd95f9b1337",
        "colab": {
          "base_uri": "https://localhost:8080/",
          "height": 166
        }
      },
      "source": [
        "# 올바른 방식 - pdist 함수로 생성한 축약 거리 행렬을 사용하는 경우\n",
        "row_clusters = linkage(pdist(df, metric = 'euclidean'),\n",
        "                       method = 'complete')\n",
        "\n",
        "pd.DataFrame(row_clusters,\n",
        "             columns = ['row label 1',\n",
        "                       'row label 2',\n",
        "                       'distance',\n",
        "                       'no. of items in clust.'],\n",
        "             index = ['cluster %d' %(i + 1) for i in range(row_clusters.shape[0])])"
      ],
      "execution_count": 52,
      "outputs": [
        {
          "output_type": "execute_result",
          "data": {
            "text/html": [
              "<div>\n",
              "<style scoped>\n",
              "    .dataframe tbody tr th:only-of-type {\n",
              "        vertical-align: middle;\n",
              "    }\n",
              "\n",
              "    .dataframe tbody tr th {\n",
              "        vertical-align: top;\n",
              "    }\n",
              "\n",
              "    .dataframe thead th {\n",
              "        text-align: right;\n",
              "    }\n",
              "</style>\n",
              "<table border=\"1\" class=\"dataframe\">\n",
              "  <thead>\n",
              "    <tr style=\"text-align: right;\">\n",
              "      <th></th>\n",
              "      <th>row label 1</th>\n",
              "      <th>row label 2</th>\n",
              "      <th>distance</th>\n",
              "      <th>no. of items in clust.</th>\n",
              "    </tr>\n",
              "  </thead>\n",
              "  <tbody>\n",
              "    <tr>\n",
              "      <th>cluster 1</th>\n",
              "      <td>0.0</td>\n",
              "      <td>4.0</td>\n",
              "      <td>3.835396</td>\n",
              "      <td>2.0</td>\n",
              "    </tr>\n",
              "    <tr>\n",
              "      <th>cluster 2</th>\n",
              "      <td>1.0</td>\n",
              "      <td>2.0</td>\n",
              "      <td>4.347073</td>\n",
              "      <td>2.0</td>\n",
              "    </tr>\n",
              "    <tr>\n",
              "      <th>cluster 3</th>\n",
              "      <td>3.0</td>\n",
              "      <td>5.0</td>\n",
              "      <td>5.899885</td>\n",
              "      <td>3.0</td>\n",
              "    </tr>\n",
              "    <tr>\n",
              "      <th>cluster 4</th>\n",
              "      <td>6.0</td>\n",
              "      <td>7.0</td>\n",
              "      <td>8.316594</td>\n",
              "      <td>5.0</td>\n",
              "    </tr>\n",
              "  </tbody>\n",
              "</table>\n",
              "</div>"
            ],
            "text/plain": [
              "           row label 1  row label 2  distance  no. of items in clust.\n",
              "cluster 1          0.0          4.0  3.835396                     2.0\n",
              "cluster 2          1.0          2.0  4.347073                     2.0\n",
              "cluster 3          3.0          5.0  5.899885                     3.0\n",
              "cluster 4          6.0          7.0  8.316594                     5.0"
            ]
          },
          "metadata": {
            "tags": []
          },
          "execution_count": 52
        }
      ]
    },
    {
      "cell_type": "code",
      "metadata": {
        "id": "ayQ2yZAIBcCa",
        "colab_type": "code",
        "outputId": "df164abf-a208-4437-c520-8f5103f0e655",
        "colab": {
          "base_uri": "https://localhost:8080/",
          "height": 166
        }
      },
      "source": [
        "# 올바른 방식 - 원본 샘플 행렬을 사용하여 직접 유클리디안 거리를 구하는 경우\n",
        "row_clusters = linkage(df.values,\n",
        "                       method = 'complete',\n",
        "                       metric = 'euclidean')\n",
        "\n",
        "pd.DataFrame(row_clusters,\n",
        "             columns = ['row label 1',\n",
        "                       'row label 2',\n",
        "                       'distance',\n",
        "                       'no. of items in clust.'],\n",
        "             index = ['cluster %d' %(i + 1) for i in range(row_clusters.shape[0])])\n",
        "\n",
        "# 완전 연결 방식으로 병합된 클러스터와 클러스터 간 거리, 클러스터 내 샘플의 개수를  표현"
      ],
      "execution_count": 53,
      "outputs": [
        {
          "output_type": "execute_result",
          "data": {
            "text/html": [
              "<div>\n",
              "<style scoped>\n",
              "    .dataframe tbody tr th:only-of-type {\n",
              "        vertical-align: middle;\n",
              "    }\n",
              "\n",
              "    .dataframe tbody tr th {\n",
              "        vertical-align: top;\n",
              "    }\n",
              "\n",
              "    .dataframe thead th {\n",
              "        text-align: right;\n",
              "    }\n",
              "</style>\n",
              "<table border=\"1\" class=\"dataframe\">\n",
              "  <thead>\n",
              "    <tr style=\"text-align: right;\">\n",
              "      <th></th>\n",
              "      <th>row label 1</th>\n",
              "      <th>row label 2</th>\n",
              "      <th>distance</th>\n",
              "      <th>no. of items in clust.</th>\n",
              "    </tr>\n",
              "  </thead>\n",
              "  <tbody>\n",
              "    <tr>\n",
              "      <th>cluster 1</th>\n",
              "      <td>0.0</td>\n",
              "      <td>4.0</td>\n",
              "      <td>3.835396</td>\n",
              "      <td>2.0</td>\n",
              "    </tr>\n",
              "    <tr>\n",
              "      <th>cluster 2</th>\n",
              "      <td>1.0</td>\n",
              "      <td>2.0</td>\n",
              "      <td>4.347073</td>\n",
              "      <td>2.0</td>\n",
              "    </tr>\n",
              "    <tr>\n",
              "      <th>cluster 3</th>\n",
              "      <td>3.0</td>\n",
              "      <td>5.0</td>\n",
              "      <td>5.899885</td>\n",
              "      <td>3.0</td>\n",
              "    </tr>\n",
              "    <tr>\n",
              "      <th>cluster 4</th>\n",
              "      <td>6.0</td>\n",
              "      <td>7.0</td>\n",
              "      <td>8.316594</td>\n",
              "      <td>5.0</td>\n",
              "    </tr>\n",
              "  </tbody>\n",
              "</table>\n",
              "</div>"
            ],
            "text/plain": [
              "           row label 1  row label 2  distance  no. of items in clust.\n",
              "cluster 1          0.0          4.0  3.835396                     2.0\n",
              "cluster 2          1.0          2.0  4.347073                     2.0\n",
              "cluster 3          3.0          5.0  5.899885                     3.0\n",
              "cluster 4          6.0          7.0  8.316594                     5.0"
            ]
          },
          "metadata": {
            "tags": []
          },
          "execution_count": 53
        }
      ]
    },
    {
      "cell_type": "code",
      "metadata": {
        "scrolled": true,
        "id": "SOBRV5vuBcCj",
        "colab_type": "code",
        "outputId": "611a6568-3e33-4cfb-fa5b-0ee6b6bfb917",
        "colab": {
          "base_uri": "https://localhost:8080/",
          "height": 297
        }
      },
      "source": [
        "# 덴드로그램으로 연결행렬 시각화하기 \n",
        "\n",
        "from scipy.cluster.hierarchy import dendrogram\n",
        "\n",
        "# 검은색 덴드로그램 만들기 (1/2 부분만)\n",
        "# from scipy.cluster.hierarchy import set_link_color_palette\n",
        "# set_link_color_palette(['black'])\n",
        "\n",
        "row_dendr = dendrogram(row_clusters,\n",
        "                       labels = labels,\n",
        "                       # 검은색 덴드로그램 만들기 (2/2 부분)\n",
        "                       # color_threshold = np.inf\n",
        "                       )\n",
        "\n",
        "plt.tight_layout()\n",
        "plt.ylabel('Euclidean distance')\n",
        "plt.show()\n",
        "\n",
        "# 병합 계층 군집으로 만들어지는 클러스터들을 요약\n",
        "# 높이가 낮을 수록 유클리디안 거리 기반 가장 가까운 샘플"
      ],
      "execution_count": 60,
      "outputs": [
        {
          "output_type": "display_data",
          "data": {
            "image/png": "[encoded data removed]",
            "text/plain": [
              "<Figure size 432x288 with 1 Axes>"
            ]
          },
          "metadata": {
            "tags": [],
            "needs_background": "light"
          }
        }
      ]
    },
    {
      "cell_type": "markdown",
      "metadata": {
        "id": "E9fLAVnCBcCs",
        "colab_type": "text"
      },
      "source": [
        "### 11.2.3 히트맵에 덴드로그램 연결하기"
      ]
    },
    {
      "cell_type": "code",
      "metadata": {
        "id": "yq4TV1JrBcCt",
        "colab_type": "code",
        "outputId": "c31fd63c-7f8f-4f8a-d978-0d4c9267c979",
        "colab": {
          "base_uri": "https://localhost:8080/",
          "height": 397
        }
      },
      "source": [
        "fig = plt.figure(figsize = (8, 8), facecolor = 'white') #figure 객체 생성\n",
        "axd = fig.add_axes([0.09, 0.1, 0.2, 0.6]) # 덴드로그램 형태 지정\n",
        "row_dendr = dendrogram(row_clusters, orientation = 'left') # 반시계 방향으로 회전\n",
        "\n",
        "# 군집에 맞게 데이터를 재정렬\n",
        "df_rowclust = df.iloc[row_dendr['leaves'][:: -1]]\n",
        "\n",
        "# 히트맵을 출력\n",
        "axm = fig.add_axes([0.23, 0.1, 0.6, 0.6]) # x-위치, y-위치, 너비, 높이\n",
        "cax = axm.matshow(df_rowclust, \n",
        "                  interpolation = 'nearest', cmap = 'hot_r')\n",
        "\n",
        "# 덴드로그램의 축 제거, 그래프 테두리 감추기, 컬러막대 추가, 레이블 할당\n",
        "axd.set_xticks([])\n",
        "axd.set_yticks([])\n",
        "for i in axd.spines.values():\n",
        "    i.set_visible(False)\n",
        "\n",
        "fig.colorbar(cax)\n",
        "axm.set_xticklabels([''] + list(df_rowclust.columns))\n",
        "axm.set_yticklabels([''] + list(df_rowclust.index))\n",
        "plt.show()\n",
        "\n",
        "# 히트맵의 행 순서는 덴드로그램 샘플 군집을 반영"
      ],
      "execution_count": 64,
      "outputs": [
        {
          "output_type": "display_data",
          "data": {
            "image/png": "[encoded data removed]",
            "text/plain": [
              "<Figure size 576x576 with 3 Axes>"
            ]
          },
          "metadata": {
            "tags": []
          }
        }
      ]
    },
    {
      "cell_type": "markdown",
      "metadata": {
        "id": "j61bGaTHBcC2",
        "colab_type": "text"
      },
      "source": [
        "### 11.2.4 사이킷런에서 병합 군집 적용하기"
      ]
    },
    {
      "cell_type": "code",
      "metadata": {
        "id": "0hwTeW-CBcC4",
        "colab_type": "code",
        "outputId": "29730360-2f2b-4085-b971-6ae5a44665a9",
        "colab": {}
      },
      "source": [
        "# 사이킷런 클래스를 이용하여 병합 계층 군집 수행\n",
        "\n",
        "from sklearn.cluster import AgglomerativeClustering\n",
        "\n",
        "# 위의 설정과 같은 방식 사용\n",
        "ac = AgglomerativeClustering(n_clusters=3, \n",
        "                             affinity='euclidean', \n",
        "                             linkage='complete')\n",
        "labels = ac.fit_predict(X)\n",
        "print('클러스터 레이블: %s' % labels)\n",
        "\n",
        "# 결과는 덴드로그램과 동일하게 ID0, ID4가 1번 군집, ID2, ID3이 0번 군집, ID3은 자기자신(2번)으로 할당되었음"
      ],
      "execution_count": 0,
      "outputs": [
        {
          "output_type": "stream",
          "text": [
            "클러스터 레이블: [1 0 0 2 1]\n"
          ],
          "name": "stdout"
        }
      ]
    },
    {
      "cell_type": "code",
      "metadata": {
        "id": "G4Gl8hikBcDA",
        "colab_type": "code",
        "outputId": "9b2af2f5-7280-417d-a619-016fff4d75b3",
        "colab": {}
      },
      "source": [
        "# ID3에 대해 [ID0, ID4] 와 [ID2, ID3] 중 더 거리가 가까운 군집을 찾기 위해 군집 개수를 2로 줄임\n",
        "ac = AgglomerativeClustering(n_clusters=2, \n",
        "                             affinity='euclidean', \n",
        "                             linkage='complete')\n",
        "labels = ac.fit_predict(X)\n",
        "print('클러스터 레이블: %s' % labels)\n",
        "\n",
        "# [ID0, ID4]와 같은 클러스터로 묶임을 확인"
      ],
      "execution_count": 0,
      "outputs": [
        {
          "output_type": "stream",
          "text": [
            "클러스터 레이블: [0 1 1 0 0]\n"
          ],
          "name": "stdout"
        }
      ]
    }
  ]
}